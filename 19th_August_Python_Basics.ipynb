{
 "cells": [
  {
   "cell_type": "code",
   "execution_count": 3,
   "id": "12615722-8448-4e1f-bf93-8faabb1cc833",
   "metadata": {},
   "outputs": [
    {
     "name": "stdout",
     "output_type": "stream",
     "text": [
      "Before swapping x=10, y=20\n",
      "After swapping x=20, y=10\n"
     ]
    }
   ],
   "source": [
    "# Swap the values of these variables without using any temporary variable.\n",
    "x = 10\n",
    "y = 20\n",
    "print(f\"Before swapping x={x}, y={y}\")\n",
    "y, x = x, y\n",
    "print(f\"After swapping x={x}, y={y}\")"
   ]
  },
  {
   "cell_type": "code",
   "execution_count": 4,
   "id": "8e3dc5d7-ee08-416a-b3fb-4a1401e29c85",
   "metadata": {},
   "outputs": [
    {
     "name": "stdin",
     "output_type": "stream",
     "text": [
      "Enter length of rectangle:  20\n",
      "Enter width of rectangle:  30\n"
     ]
    },
    {
     "name": "stdout",
     "output_type": "stream",
     "text": [
      "Area of rectangle: 600\n"
     ]
    }
   ],
   "source": [
    "# Calculate area of rectangle\n",
    "length = int(input(\"Enter length of rectangle: \"))\n",
    "width = int(input(\"Enter width of rectangle: \"))\n",
    "area = length * width\n",
    "print(f\"Area of rectangle: {area}\")"
   ]
  },
  {
   "cell_type": "code",
   "execution_count": 8,
   "id": "90bbe0f8-ba00-4e9c-8267-904cca768a81",
   "metadata": {},
   "outputs": [
    {
     "name": "stdin",
     "output_type": "stream",
     "text": [
      "Enter temperature in Celsius:  50\n"
     ]
    },
    {
     "name": "stdout",
     "output_type": "stream",
     "text": [
      "temperature 50.0C = 122.0F\n"
     ]
    }
   ],
   "source": [
    "# Change Celsius temperature to Fahrenheit\n",
    "celsius = float(input(\"Enter temperature in Celsius: \"))\n",
    "fahrenheit = round(((celsius * (9/5)) + 32), 2)\n",
    "print(f\"temperature {celsius}C = {fahrenheit}F\")"
   ]
  },
  {
   "cell_type": "code",
   "execution_count": 10,
   "id": "70119e79-1748-44b2-a140-bbcd2c74cedb",
   "metadata": {},
   "outputs": [
    {
     "name": "stdin",
     "output_type": "stream",
     "text": [
      "Enter a string:  rajesh\n"
     ]
    },
    {
     "name": "stdout",
     "output_type": "stream",
     "text": [
      "Length of input string 'rajesh' - 6\n"
     ]
    }
   ],
   "source": [
    "# length of the string input\n",
    "str = input(\"Enter a string: \")\n",
    "print(f\"Length of input string '{str}' - {len(str)}\")"
   ]
  },
  {
   "cell_type": "code",
   "execution_count": 14,
   "id": "9033c1fc-7361-4063-a65a-b9dc6d270ec9",
   "metadata": {},
   "outputs": [
    {
     "name": "stdin",
     "output_type": "stream",
     "text": [
      "Enter a string:  Full Stack Data Science Pro, Python Basics Assignment\n"
     ]
    },
    {
     "name": "stdout",
     "output_type": "stream",
     "text": [
      "Number of vowels: 14\n"
     ]
    }
   ],
   "source": [
    "# count vowels from input string\n",
    "str = input(\"Enter a string: \")\n",
    "vowels = ['a', 'e', 'i', 'o', 'u']\n",
    "count = 0\n",
    "for s in str.lower():\n",
    "    if s in vowels:\n",
    "        count += 1\n",
    "print(f\"Number of vowels: {count}\")"
   ]
  },
  {
   "cell_type": "code",
   "execution_count": 18,
   "id": "b89a73e2-fd57-4d11-864f-58e7d3778539",
   "metadata": {},
   "outputs": [
    {
     "name": "stdin",
     "output_type": "stream",
     "text": [
      "Enter a string:  rajesh\n"
     ]
    },
    {
     "name": "stdout",
     "output_type": "stream",
     "text": [
      "Reverse of 'rajesh' is 'hsejar'\n"
     ]
    }
   ],
   "source": [
    "# reverse a string\n",
    "str = input(\"Enter a string: \")\n",
    "rev = str[-1::-1]\n",
    "print(f\"Reverse of '{str}' is '{rev}'\")"
   ]
  },
  {
   "cell_type": "code",
   "execution_count": 23,
   "id": "8a66545d-fddc-4ff5-a478-230d24c86488",
   "metadata": {},
   "outputs": [
    {
     "name": "stdin",
     "output_type": "stream",
     "text": [
      "Enter a string:  mom\n"
     ]
    },
    {
     "name": "stdout",
     "output_type": "stream",
     "text": [
      "Its a palindrome\n"
     ]
    }
   ],
   "source": [
    "# palindrome\n",
    "str = input(\"Enter a string: \")\n",
    "rev = str[-1::-1]\n",
    "if str == rev:\n",
    "    print(\"Its a palindrome\")\n",
    "else:\n",
    "    print(\"Not a palindrome\")"
   ]
  },
  {
   "cell_type": "code",
   "execution_count": 26,
   "id": "891bd343-c8c6-4980-bb4a-5c7f309e120c",
   "metadata": {},
   "outputs": [
    {
     "name": "stdin",
     "output_type": "stream",
     "text": [
      "Enter a string:  full stack\n"
     ]
    },
    {
     "name": "stdout",
     "output_type": "stream",
     "text": [
      "fullstack\n"
     ]
    }
   ],
   "source": [
    "# remove spaces\n",
    "str = input(\"Enter a string: \")\n",
    "s = str.split()\n",
    "new_str=\"\"\n",
    "for i in s:\n",
    "    new_str = new_str+i\n",
    "print(new_str)"
   ]
  },
  {
   "cell_type": "code",
   "execution_count": null,
   "id": "64b95144-038b-4e5d-8a9e-94ea2a238468",
   "metadata": {},
   "outputs": [],
   "source": []
  }
 ],
 "metadata": {
  "kernelspec": {
   "display_name": "Python 3 (ipykernel)",
   "language": "python",
   "name": "python3"
  },
  "language_info": {
   "codemirror_mode": {
    "name": "ipython",
    "version": 3
   },
   "file_extension": ".py",
   "mimetype": "text/x-python",
   "name": "python",
   "nbconvert_exporter": "python",
   "pygments_lexer": "ipython3",
   "version": "3.10.8"
  }
 },
 "nbformat": 4,
 "nbformat_minor": 5
}
